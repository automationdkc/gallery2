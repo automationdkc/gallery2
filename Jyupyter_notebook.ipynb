{
 "cells": [
  {
   "cell_type": "code",
   "execution_count": 1,
   "id": "f40159dd-14c6-4ee3-b179-50c15d6cda29",
   "metadata": {},
   "outputs": [
    {
     "data": {
      "text/plain": [
       "<QuerySet [<Category: MSR>, <Category: Apparel>, <Category: Dress -> Apparel>, <Category: Woven Top -> Apparel>, <Category: Strappy -> Dress -> Apparel>, <Category: Sleeveless -> Dress -> Apparel>, <Category: Strappy -> Woven Top -> Apparel>, <Category: Sleeveless -> Woven Top -> Apparel>, <Category: Intimates -> Apparel>, <Category: Bralettes -> Intimates -> Apparel>, <Category: Slips -> Intimates -> Apparel>, <Category: Bodysuit -> Intimates -> Apparel>, <Category: Lounge -> Intimates -> Apparel>, <Category: Sleep -> Lounge -> Intimates -> Apparel>, <Category: Other -> Lounge -> Intimates -> Apparel>, <Category: Knits -> Apparel>, <Category: Thermal -> Knits -> Apparel>, <Category: Other -> Knits -> Apparel>, <Category: Sweater -> Apparel>, <Category: Bottoms -> Apparel>, '...(remaining elements truncated)...']>"
      ]
     },
     "execution_count": 1,
     "metadata": {},
     "output_type": "execute_result"
    }
   ],
   "source": [
    "import os\n",
    "\n",
    "# Allow Django ORM queries inside Jupyter Notebook\n",
    "os.environ[\"DJANGO_ALLOW_ASYNC_UNSAFE\"] = \"true\"\n",
    "\n",
    "import django\n",
    "\n",
    "# Set Django settings and initialize\n",
    "os.environ.setdefault(\"DJANGO_SETTINGS_MODULE\", \"Gallery.settings\")\n",
    "django.setup()\n",
    "\n",
    "# Import models and run a sample ORM query\n",
    "from showroom.models import Category\n",
    "\n",
    "# Fetch all categories\n",
    "categories = Category.objects.all()\n",
    "\n",
    "# Display the results\n",
    "categories\n"
   ]
  },
  {
   "cell_type": "code",
   "execution_count": 2,
   "id": "0fee97e2",
   "metadata": {},
   "outputs": [],
   "source": [
    "from showroom.models import *"
   ]
  },
  {
   "cell_type": "code",
   "execution_count": 14,
   "id": "28491e5d",
   "metadata": {},
   "outputs": [
    {
     "data": {
      "text/plain": [
       "<QuerySet [<Category: Spring -> MSR>, <Category: Autum -> MSR>, <Category: Summer -> MSR>, <Category: Winter -> MSR>, <Category: Dress -> Apparel>, <Category: Woven Top -> Apparel>, <Category: Intimates -> Apparel>, <Category: Knits -> Apparel>, <Category: Sweater -> Apparel>, <Category: Bottoms -> Apparel>, <Category: Jacket -> Apparel>, <Category: Kimono -> Apparel>, <Category: FP Movement -> Apparel>]>"
      ]
     },
     "execution_count": 14,
     "metadata": {},
     "output_type": "execute_result"
    }
   ],
   "source": [
    "Category.objects.filter(parent__isnull = False).filter(parent__parent__isnull = True)"
   ]
  },
  {
   "cell_type": "code",
   "execution_count": 12,
   "id": "b3181ab3",
   "metadata": {},
   "outputs": [
    {
     "data": {
      "text/plain": [
       "<QuerySet [<Category: MSR>, <Category: Apparel>, <Category: Dress -> Apparel>, <Category: Woven Top -> Apparel>, <Category: Intimates -> Apparel>, <Category: Knits -> Apparel>, <Category: Sweater -> Apparel>, <Category: Bottoms -> Apparel>, <Category: Jacket -> Apparel>, <Category: Kimono -> Apparel>, <Category: FP Movement -> Apparel>, <Category: Spring -> MSR>, <Category: Autum -> MSR>, <Category: Summer -> MSR>, <Category: Winter -> MSR>]>"
      ]
     },
     "execution_count": 12,
     "metadata": {},
     "output_type": "execute_result"
    }
   ],
   "source": [
    "Category.objects.filter(parent__parent__isnull = True)"
   ]
  },
  {
   "cell_type": "code",
   "execution_count": 20,
   "id": "6c5ebe2e",
   "metadata": {},
   "outputs": [],
   "source": [
    "style = Style.objects.get(name = 'Adella')"
   ]
  },
  {
   "cell_type": "code",
   "execution_count": 25,
   "id": "9a3cfefc",
   "metadata": {},
   "outputs": [
    {
     "data": {
      "text/plain": [
       "14"
      ]
     },
     "execution_count": 25,
     "metadata": {},
     "output_type": "execute_result"
    }
   ],
   "source": [
    "style.category.id"
   ]
  },
  {
   "cell_type": "code",
   "execution_count": 26,
   "id": "19368edd",
   "metadata": {},
   "outputs": [],
   "source": [
    "category = Category.objects.get(id = style.category.id)"
   ]
  },
  {
   "cell_type": "code",
   "execution_count": 40,
   "id": "6d66a714",
   "metadata": {},
   "outputs": [
    {
     "data": {
      "text/plain": [
       "<QuerySet [<Category: Dress -> Apparel>, <Category: Woven Top -> Apparel>, <Category: Intimates -> Apparel>, <Category: Knits -> Apparel>, <Category: Sweater -> Apparel>, <Category: Bottoms -> Apparel>, <Category: Jacket -> Apparel>, <Category: Kimono -> Apparel>, <Category: FP Movement -> Apparel>]>"
      ]
     },
     "execution_count": 40,
     "metadata": {},
     "output_type": "execute_result"
    }
   ],
   "source": [
    "category.styles.all()[0].category.parent.parent.parent.subcategories.all()"
   ]
  },
  {
   "cell_type": "code",
   "execution_count": 50,
   "id": "aec65fcb",
   "metadata": {},
   "outputs": [
    {
     "name": "stdout",
     "output_type": "stream",
     "text": [
      "MSR\n",
      "├── Spring\n",
      "├── Autum\n",
      "├── Summer\n",
      "├── Winter\n",
      "Apparel\n",
      "├── Dress\n",
      "│   ├── Strappy\n",
      "│   ├── Sleeveless\n",
      "├── Woven Top\n",
      "│   ├── Strappy\n",
      "│   ├── Sleeveless\n",
      "├── Intimates\n",
      "│   ├── Bralettes\n",
      "│   ├── Slips\n",
      "│   ├── Bodysuit\n",
      "│   ├── Lounge\n",
      "│   │   ├── Sleep\n",
      "│   │   ├── Other\n",
      "├── Knits\n",
      "│   ├── Thermal\n",
      "│   ├── Other\n",
      "├── Sweater\n",
      "├── Bottoms\n",
      "│   ├── Skirt\n",
      "│   ├── Pant\n",
      "│   ├── Short\n",
      "│   ├── One piece\n",
      "├── Jacket\n",
      "├── Kimono\n",
      "├── FP Movement\n"
     ]
    }
   ],
   "source": [
    "categories = Category.objects.filter(parent=None)  # Get top-level categories\n",
    "\n",
    "def print_categories(category, level=0):\n",
    "    \"\"\"Recursively prints categories in a structured tree format.\"\"\"\n",
    "    prefix = \"│   \" * (level - 1) + (\"├── \" if level > 0 else \"\")  # Tree-style indentation\n",
    "    print(prefix + category.name)  # Print category with indentation\n",
    "    for subcategory in category.subcategories.all():  # Fetch subcategories\n",
    "        print_categories(subcategory, level + 1)  # Recursive call for deeper levels\n",
    "\n",
    "for category in categories:\n",
    "    print_categories(category)  # Start recursion for each top-level category\n"
   ]
  },
  {
   "cell_type": "code",
   "execution_count": 65,
   "id": "d6c4b480",
   "metadata": {},
   "outputs": [
    {
     "data": {
      "text/plain": [
       "<QuerySet [<MSRSeasonYear: Autum -> 2025>, <MSRSeasonYear: Winter -> 2025>, <MSRSeasonYear: Summer -> 2025>, <MSRSeasonYear: Spring -> 2025>]>"
      ]
     },
     "execution_count": 65,
     "metadata": {},
     "output_type": "execute_result"
    }
   ],
   "source": [
    "Category.objects.get(id=1).subcategories.all().first().msr_seasons.first().year.msr_seasons.all()"
   ]
  },
  {
   "cell_type": "code",
   "execution_count": 69,
   "id": "2a5e9368",
   "metadata": {},
   "outputs": [
    {
     "data": {
      "text/plain": [
       "<QuerySet [<MSRSeasonYear: Autum -> 2025>, <MSRSeasonYear: Winter -> 2025>, <MSRSeasonYear: Summer -> 2025>, <MSRSeasonYear: Spring -> 2025>]>"
      ]
     },
     "execution_count": 69,
     "metadata": {},
     "output_type": "execute_result"
    }
   ],
   "source": [
    "Year.objects.first().msr_seasons.all()"
   ]
  },
  {
   "cell_type": "code",
   "execution_count": 76,
   "id": "97d4f452",
   "metadata": {},
   "outputs": [
    {
     "name": "stdout",
     "output_type": "stream",
     "text": [
      "2025\n",
      "Autum -> 2025\n",
      "MSR\n",
      "Winter -> 2025\n",
      "MSR\n",
      "Summer -> 2025\n",
      "MSR\n",
      "Spring -> 2025\n",
      "MSR\n",
      "2024\n",
      "Autum -> 2024\n",
      "MSR\n",
      "Winter -> 2024\n",
      "MSR\n",
      "Summer -> 2024\n",
      "MSR\n",
      "Spring -> 2024\n",
      "MSR\n",
      "2023\n",
      "Autum -> 2023\n",
      "MSR\n",
      "Winter -> 2023\n",
      "MSR\n",
      "2022\n",
      "2021\n",
      "2020\n",
      "2019\n",
      "2018\n",
      "2017\n",
      "2016\n",
      "2015\n"
     ]
    }
   ],
   "source": [
    "for year in Year.objects.all():\n",
    "    print(year)\n",
    "    for season in year.msr_seasons.all():\n",
    "        print(season)\n",
    "        print(season.season.parent)\n",
    "            # for style in category.styles.all():\n",
    "            #     print(style)\n",
    "            #     for product in style.products.all():\n",
    "            #         print(product)"
   ]
  },
  {
   "cell_type": "code",
   "execution_count": null,
   "id": "7825879b",
   "metadata": {},
   "outputs": [],
   "source": []
  }
 ],
 "metadata": {
  "kernelspec": {
   "display_name": "Python 3 (ipykernel)",
   "language": "python",
   "name": "python3"
  },
  "language_info": {
   "codemirror_mode": {
    "name": "ipython",
    "version": 3
   },
   "file_extension": ".py",
   "mimetype": "text/x-python",
   "name": "python",
   "nbconvert_exporter": "python",
   "pygments_lexer": "ipython3",
   "version": "3.13.1"
  }
 },
 "nbformat": 4,
 "nbformat_minor": 5
}
