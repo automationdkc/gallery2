{
 "cells": [
  {
   "cell_type": "code",
   "execution_count": 2,
   "id": "f40159dd-14c6-4ee3-b179-50c15d6cda29",
   "metadata": {},
   "outputs": [
    {
     "data": {
      "text/plain": [
       "<QuerySet [<Category: MSR>, <Category: Apparel>, <Category: Dress -> Apparel>, <Category: Woven Top -> Apparel>, <Category: Strappy -> Dress -> Apparel>, <Category: Sleeveless -> Dress -> Apparel>, <Category: Strappy -> Woven Top -> Apparel>, <Category: Sleeveless -> Woven Top -> Apparel>, <Category: Intimates -> Apparel>, <Category: Bralettes -> Intimates -> Apparel>, <Category: Slips -> Intimates -> Apparel>, <Category: Bodysuit -> Intimates -> Apparel>, <Category: Lounge -> Intimates -> Apparel>, <Category: Sleep -> Lounge -> Intimates -> Apparel>, <Category: Other -> Lounge -> Intimates -> Apparel>, <Category: Knits -> Apparel>, <Category: Thermal -> Knits -> Apparel>, <Category: Other -> Knits -> Apparel>, <Category: Sweater -> Apparel>, <Category: Bottoms -> Apparel>, '...(remaining elements truncated)...']>"
      ]
     },
     "execution_count": 2,
     "metadata": {},
     "output_type": "execute_result"
    }
   ],
   "source": [
    "import os\n",
    "\n",
    "# Allow Django ORM queries inside Jupyter Notebook\n",
    "os.environ[\"DJANGO_ALLOW_ASYNC_UNSAFE\"] = \"true\"\n",
    "\n",
    "import django\n",
    "\n",
    "# Set Django settings and initialize\n",
    "os.environ.setdefault(\"DJANGO_SETTINGS_MODULE\", \"Gallery.settings\")\n",
    "django.setup()\n",
    "\n",
    "# Import models and run a sample ORM query\n",
    "from showroom.models import Category\n",
    "\n",
    "# Fetch all categories\n",
    "categories = Category.objects.all()\n",
    "\n",
    "# Display the results\n",
    "categories\n"
   ]
  },
  {
   "cell_type": "code",
   "execution_count": 3,
   "id": "0fee97e2",
   "metadata": {},
   "outputs": [],
   "source": [
    "from showroom.models import *"
   ]
  },
  {
   "cell_type": "code",
   "execution_count": 4,
   "id": "28491e5d",
   "metadata": {},
   "outputs": [
    {
     "name": "stdout",
     "output_type": "stream",
     "text": [
      "MSR\n",
      "Apparel\n"
     ]
    }
   ],
   "source": [
    "top_category = Category.objects.all().filter(parent=None)\n",
    "\n",
    "for i in top_category:\n",
    "    print(i)"
   ]
  },
  {
   "cell_type": "code",
   "execution_count": null,
   "id": "b3181ab3",
   "metadata": {},
   "outputs": [],
   "source": []
  }
 ],
 "metadata": {
  "kernelspec": {
   "display_name": "Python 3 (ipykernel)",
   "language": "python",
   "name": "python3"
  },
  "language_info": {
   "codemirror_mode": {
    "name": "ipython",
    "version": 3
   },
   "file_extension": ".py",
   "mimetype": "text/x-python",
   "name": "python",
   "nbconvert_exporter": "python",
   "pygments_lexer": "ipython3",
   "version": "3.13.1"
  }
 },
 "nbformat": 4,
 "nbformat_minor": 5
}
